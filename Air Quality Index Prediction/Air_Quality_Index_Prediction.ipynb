{
 "cells": [
  {
   "cell_type": "code",
   "execution_count": 10,
   "id": "c631c38c",
   "metadata": {},
   "outputs": [],
   "source": [
    "import pandas as pd\n",
    "import numpy as np\n",
    "import matplotlib.pyplot as plt\n",
    "import seaborn as sns\n",
    "\n",
    "from sklearn.model_selection import train_test_split\n",
    "from sklearn.preprocessing import StandardScaler\n",
    "from sklearn.metrics import mean_squared_error, r2_score\n",
    "\n",
    "from sklearn.linear_model import LinearRegression\n",
    "from sklearn.ensemble import RandomForestRegressor\n",
    "from sklearn.tree import DecisionTreeRegressor\n",
    "\n",
    "\n",
    "import warnings"
   ]
  },
  {
   "cell_type": "code",
   "execution_count": 11,
   "id": "6548117f",
   "metadata": {},
   "outputs": [],
   "source": [
    "data = 'data_date.csv'\n",
    "df = pd.read_csv(data)"
   ]
  },
  {
   "cell_type": "code",
   "execution_count": 12,
   "id": "f512a420",
   "metadata": {},
   "outputs": [
    {
     "data": {
      "text/html": [
       "<div>\n",
       "<style scoped>\n",
       "    .dataframe tbody tr th:only-of-type {\n",
       "        vertical-align: middle;\n",
       "    }\n",
       "\n",
       "    .dataframe tbody tr th {\n",
       "        vertical-align: top;\n",
       "    }\n",
       "\n",
       "    .dataframe thead th {\n",
       "        text-align: right;\n",
       "    }\n",
       "</style>\n",
       "<table border=\"1\" class=\"dataframe\">\n",
       "  <thead>\n",
       "    <tr style=\"text-align: right;\">\n",
       "      <th></th>\n",
       "      <th>Date</th>\n",
       "      <th>Country</th>\n",
       "      <th>Status</th>\n",
       "      <th>AQI Value</th>\n",
       "    </tr>\n",
       "  </thead>\n",
       "  <tbody>\n",
       "    <tr>\n",
       "      <th>0</th>\n",
       "      <td>2022-07-21</td>\n",
       "      <td>Albania</td>\n",
       "      <td>Good</td>\n",
       "      <td>14</td>\n",
       "    </tr>\n",
       "    <tr>\n",
       "      <th>1</th>\n",
       "      <td>2022-07-21</td>\n",
       "      <td>Algeria</td>\n",
       "      <td>Moderate</td>\n",
       "      <td>65</td>\n",
       "    </tr>\n",
       "    <tr>\n",
       "      <th>2</th>\n",
       "      <td>2022-07-21</td>\n",
       "      <td>Andorra</td>\n",
       "      <td>Moderate</td>\n",
       "      <td>55</td>\n",
       "    </tr>\n",
       "    <tr>\n",
       "      <th>3</th>\n",
       "      <td>2022-07-21</td>\n",
       "      <td>Angola</td>\n",
       "      <td>Unhealthy for Sensitive Groups</td>\n",
       "      <td>113</td>\n",
       "    </tr>\n",
       "    <tr>\n",
       "      <th>4</th>\n",
       "      <td>2022-07-21</td>\n",
       "      <td>Argentina</td>\n",
       "      <td>Moderate</td>\n",
       "      <td>63</td>\n",
       "    </tr>\n",
       "  </tbody>\n",
       "</table>\n",
       "</div>"
      ],
      "text/plain": [
       "         Date    Country                          Status  AQI Value\n",
       "0  2022-07-21    Albania                            Good         14\n",
       "1  2022-07-21    Algeria                        Moderate         65\n",
       "2  2022-07-21    Andorra                        Moderate         55\n",
       "3  2022-07-21     Angola  Unhealthy for Sensitive Groups        113\n",
       "4  2022-07-21  Argentina                        Moderate         63"
      ]
     },
     "execution_count": 12,
     "metadata": {},
     "output_type": "execute_result"
    }
   ],
   "source": [
    "df.head()"
   ]
  },
  {
   "cell_type": "code",
   "execution_count": 13,
   "id": "e60f660b",
   "metadata": {},
   "outputs": [
    {
     "name": "stdout",
     "output_type": "stream",
     "text": [
      "Date         0\n",
      "Country      0\n",
      "Status       0\n",
      "AQI Value    0\n",
      "dtype: int64\n",
      "['Date', 'Country', 'Status', 'AQI Value']\n"
     ]
    }
   ],
   "source": [
    "print(df.isnull().sum())\n",
    "df.dropna(subset=['AQI Value'], inplace=True) #Drop  rows with missing AQI or fill as needed\n",
    "df.fillna(df.mean(numeric_only = True), inplace = True) #Fill other missing values with mean\n",
    "print(df.columns.tolist())"
   ]
  },
  {
   "cell_type": "code",
   "execution_count": 14,
   "id": "515a4ec4",
   "metadata": {},
   "outputs": [
    {
     "name": "stdout",
     "output_type": "stream",
     "text": [
      "Columns: ['Date', 'Country', 'Status', 'AQI Value']\n",
      "Cleaned Data Columns: Index(['Date', 'Country', 'Status', 'AQI Value'], dtype='object')\n"
     ]
    }
   ],
   "source": [
    "# Print actual column names\n",
    "print(\"Columns:\", df.columns.tolist())\n",
    "\n",
    "# Identify the AQI column\n",
    "aqi_column = None\n",
    "for col in df.columns:\n",
    "    if 'aqi' in col.lower():\n",
    "        aqi_column = col\n",
    "        break\n",
    "\n",
    "if aqi_column:\n",
    "    df.dropna(subset=[aqi_column], inplace=True)\n",
    "    df.fillna(df.mean(numeric_only=True), inplace=True)\n",
    "    print(\"Cleaned Data Columns:\", df.columns)\n",
    "else:\n",
    "    print(\"AQI column not found in the dataset.\")\n"
   ]
  },
  {
   "cell_type": "code",
   "execution_count": 15,
   "id": "ccb25575",
   "metadata": {},
   "outputs": [
    {
     "name": "stdout",
     "output_type": "stream",
     "text": [
      "Preprocessing completed successfully!\n"
     ]
    }
   ],
   "source": [
    "import numpy as np\n",
    "import pandas as pd\n",
    "from sklearn.model_selection import train_test_split\n",
    "from sklearn.preprocessing import StandardScaler, LabelEncoder\n",
    "\n",
    "# 1. Extract features from Date\n",
    "df['Date'] = pd.to_datetime(df['Date'], errors='coerce')  # Convert to datetime\n",
    "df['Year'] = df['Date'].dt.year\n",
    "df['Month'] = df['Date'].dt.month\n",
    "df['Day'] = df['Date'].dt.day\n",
    "\n",
    "# 2. Encode categorical variables: Country and Status\n",
    "label_enc_country = LabelEncoder()\n",
    "label_enc_status = LabelEncoder()\n",
    "\n",
    "df['Country_encoded'] = label_enc_country.fit_transform(df['Country'].astype(str))\n",
    "df['Status_encoded'] = label_enc_status.fit_transform(df['Status'].astype(str))\n",
    "\n",
    "# 3. Define target and features\n",
    "x = df[['Year', 'Month', 'Day', 'Country_encoded', 'Status_encoded']]\n",
    "y = df['AQI Value']\n",
    "\n",
    "# 4. Train-test split\n",
    "x_train, x_test, y_train, y_test = train_test_split(x, y, test_size=0.2, random_state=42)\n",
    "\n",
    "# 5. Feature scaling\n",
    "scaler = StandardScaler()\n",
    "x_train = scaler.fit_transform(x_train)\n",
    "x_test = scaler.transform(x_test)\n",
    "\n",
    "print(\"Preprocessing completed successfully!\")\n"
   ]
  },
  {
   "cell_type": "code",
   "execution_count": 16,
   "id": "1138cb41",
   "metadata": {},
   "outputs": [
    {
     "name": "stdout",
     "output_type": "stream",
     "text": [
      "\n",
      " LinearRegression\n",
      "R2 Score :0.6305\n",
      "MAE: 16.37\n",
      "RMSE: 28.57\n",
      "\n",
      " RandomForest\n",
      "R2 Score :0.9184\n",
      "MAE: 8.58\n",
      "RMSE: 13.43\n",
      "\n",
      " Decision Tree\n",
      "R2 Score :0.8397\n",
      "MAE: 10.58\n",
      "RMSE: 18.82\n"
     ]
    }
   ],
   "source": [
    "from sklearn.metrics import r2_score, mean_squared_error, mean_absolute_error\n",
    "#Initialize the models\n",
    "models = {\n",
    "    \"LinearRegression\": LinearRegression(),\n",
    "    \"RandomForest\": RandomForestRegressor(random_state = 42),\n",
    "    \"Decision Tree\": DecisionTreeRegressor(random_state = 42)\n",
    "}\n",
    "#train and evaluate each model\n",
    "for name, model in models.items():\n",
    "    model.fit(x_train, y_train)\n",
    "    y_pred = model.predict(x_test)\n",
    "\n",
    "    r2 = r2_score(y_test, y_pred)\n",
    "    mae = mean_absolute_error(y_test, y_pred)\n",
    "    rmse = np.sqrt(mean_squared_error(y_test, y_pred))\n",
    "    print(f\"\\n {name}\")\n",
    "    print(f\"R2 Score :{r2:.4f}\")\n",
    "    print(f\"MAE: {mae:.2f}\")\n",
    "    print(f\"RMSE: {rmse:.2f}\")\n"
   ]
  },
  {
   "cell_type": "code",
   "execution_count": null,
   "id": "b23745fd",
   "metadata": {},
   "outputs": [],
   "source": []
  }
 ],
 "metadata": {
  "kernelspec": {
   "display_name": "Python 3",
   "language": "python",
   "name": "python3"
  },
  "language_info": {
   "codemirror_mode": {
    "name": "ipython",
    "version": 3
   },
   "file_extension": ".py",
   "mimetype": "text/x-python",
   "name": "python",
   "nbconvert_exporter": "python",
   "pygments_lexer": "ipython3",
   "version": "3.13.3"
  }
 },
 "nbformat": 4,
 "nbformat_minor": 5
}
